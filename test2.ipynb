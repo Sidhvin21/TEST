{
 "cells": [
  {
   "cell_type": "code",
   "execution_count": 4,
   "id": "6f6a3e80-916a-48c7-be4e-cd76c65e5b85",
   "metadata": {},
   "outputs": [
    {
     "name": "stdin",
     "output_type": "stream",
     "text": [
      "Enter a number :  6\n"
     ]
    },
    {
     "name": "stdout",
     "output_type": "stream",
     "text": [
      "The square of 6.0 is 36.0.\n"
     ]
    }
   ],
   "source": [
    "#1\n",
    "sqr = lambda x: x ** 2\n",
    "\n",
    "square = float(input(\"Enter a number : \"))\n",
    "result = sqr(square)\n",
    "print(f\"The square of {square} is {result}.\")"
   ]
  },
  {
   "cell_type": "code",
   "execution_count": 3,
   "id": "4cb0b816-d51e-4511-9552-e6c0168f3346",
   "metadata": {},
   "outputs": [
    {
     "name": "stdout",
     "output_type": "stream",
     "text": [
      "[[0. 0. 0. 0.]\n",
      " [0. 0. 0. 0.]\n",
      " [0. 0. 0. 0.]]\n"
     ]
    }
   ],
   "source": [
    "# numpy 1\n",
    "import numpy as np\n",
    "print(np.zeros([3,4]))"
   ]
  },
  {
   "cell_type": "markdown",
   "id": "33bb37ab-abfd-4219-a358-b99e1c95d628",
   "metadata": {},
   "source": []
  },
  {
   "cell_type": "code",
   "execution_count": 4,
   "id": "d6decda6-3b87-4c4e-a1c6-975cb265fa4f",
   "metadata": {},
   "outputs": [
    {
     "name": "stdout",
     "output_type": "stream",
     "text": [
      "[[1. 1. 1. 1. 1.]\n",
      " [1. 1. 1. 1. 1.]]\n"
     ]
    }
   ],
   "source": [
    "#2\n",
    "import numpy as np\n",
    "print(np.ones([2,5]))"
   ]
  },
  {
   "cell_type": "code",
   "execution_count": 7,
   "id": "ee092653-5ebf-49bf-b077-d16212d2c6c0",
   "metadata": {},
   "outputs": [
    {
     "name": "stdout",
     "output_type": "stream",
     "text": [
      "[ 1  2  3  4  5  6  7  8  9 10]\n"
     ]
    }
   ],
   "source": [
    "#3\n",
    "import numpy as np\n",
    "print(np.arange(1,11))\n"
   ]
  },
  {
   "cell_type": "code",
   "execution_count": 9,
   "id": "76ce15b0-d8e1-4314-b163-3592ac737cac",
   "metadata": {},
   "outputs": [
    {
     "name": "stdout",
     "output_type": "stream",
     "text": [
      "[0.  0.1 0.2 0.3 0.4 0.5 0.6 0.7 0.8 0.9 1. ]\n"
     ]
    }
   ],
   "source": [
    "#4\n",
    "import numpy as np\n",
    "print(np.arange(0,1.1,0.1))"
   ]
  },
  {
   "cell_type": "code",
   "execution_count": 10,
   "id": "3d3ad852-a989-41cb-a788-04658827d7f7",
   "metadata": {},
   "outputs": [
    {
     "name": "stdout",
     "output_type": "stream",
     "text": [
      "[0.  0.1 0.2 0.3 0.4 0.5 0.6 0.7 0.8 0.9]\n"
     ]
    }
   ],
   "source": [
    "#5\n",
    "import numpy as np\n",
    "print(np.linspace(0, 1, 10, endpoint=False))\n",
    "\n",
    "\n"
   ]
  },
  {
   "cell_type": "code",
   "execution_count": 13,
   "id": "e14bef08-46c8-4c40-8e20-a204b5913a8d",
   "metadata": {},
   "outputs": [
    {
     "name": "stdout",
     "output_type": "stream",
     "text": [
      "[1. 2. 3. 4.]\n"
     ]
    }
   ],
   "source": [
    "#6\n",
    "import numpy as np\n",
    "\n",
    "\n",
    "arr=np.array([1, 4, 9, 16])\n",
    "print(np.sqrt(arr) )\n",
    "\n",
    "\n"
   ]
  },
  {
   "cell_type": "code",
   "execution_count": 22,
   "id": "3339a3f5-c8ca-4f46-bca2-139782294b2a",
   "metadata": {},
   "outputs": [
    {
     "name": "stdout",
     "output_type": "stream",
     "text": [
      "20\n"
     ]
    }
   ],
   "source": [
    "#7\n",
    "import numpy as np\n",
    "\n",
    "arr= np.array([2, 3, 4, 5, 6])\n",
    "\n",
    "\n",
    "print(np.sum(arr)) \n",
    "\n"
   ]
  },
  {
   "cell_type": "code",
   "execution_count": 21,
   "id": "ec8ee016-68b8-46b4-b8f7-f4dab875ae40",
   "metadata": {},
   "outputs": [
    {
     "name": "stdout",
     "output_type": "stream",
     "text": [
      "1\n"
     ]
    }
   ],
   "source": [
    "#8\n",
    "import numpy as np\n",
    "arr= np.array([1, 5, 9, 3, 6])\n",
    "print(np.min(arr))\n"
   ]
  },
  {
   "cell_type": "code",
   "execution_count": 24,
   "id": "c45a8011-e3d3-47e1-afa3-ed22d0023537",
   "metadata": {},
   "outputs": [
    {
     "name": "stdout",
     "output_type": "stream",
     "text": [
      "9\n"
     ]
    }
   ],
   "source": [
    "#9\n",
    "import numpy as np\n",
    "arr = np.array([1, 5, 9, 3, 6])\n",
    "print(np.max(arr))\n"
   ]
  },
  {
   "cell_type": "code",
   "execution_count": 27,
   "id": "54bb7bae-8589-460a-8e98-d6137c0a9a1d",
   "metadata": {},
   "outputs": [
    {
     "name": "stdout",
     "output_type": "stream",
     "text": [
      "[32 40 23 29 31]\n"
     ]
    }
   ],
   "source": [
    "#11\n",
    "import numpy as np\n",
    "arr = np.random.randint(10, 50, size=5)\n",
    "\n",
    "print(arr)\n"
   ]
  },
  {
   "cell_type": "code",
   "execution_count": 28,
   "id": "7ac54996-1f2d-490d-ae65-343bb28687c5",
   "metadata": {},
   "outputs": [
    {
     "name": "stdin",
     "output_type": "stream",
     "text": [
      "Enter  marks:  45\n"
     ]
    },
    {
     "name": "stdout",
     "output_type": "stream",
     "text": [
      "The student's grade is: Grade F\n"
     ]
    }
   ],
   "source": [
    "#python question 15\n",
    "def grade(marks):\n",
    "    if marks >= 90:\n",
    "        return \"Grade A\"\n",
    "    elif marks >= 75:\n",
    "        return \"Grade B\"\n",
    "    elif marks >= 50:\n",
    "        return \"Grade C\"\n",
    "    else:\n",
    "        return \"Grade F\"\n",
    "marks = float(input(\"Enter  marks: \"))\n",
    "grade = grade(marks)\n",
    "print(\"The student's grade is:\", grade)\n"
   ]
  },
  {
   "cell_type": "code",
   "execution_count": 30,
   "id": "09055294-74ec-4c19-9f6c-23f6c165eb0f",
   "metadata": {},
   "outputs": [
    {
     "name": "stdin",
     "output_type": "stream",
     "text": [
      "Enter the first number:  2\n",
      "Enter the second number:  45\n",
      "Enter the third number:  77\n"
     ]
    },
    {
     "name": "stdout",
     "output_type": "stream",
     "text": [
      "77.0\n"
     ]
    }
   ],
   "source": [
    "#17\n",
    "def max_of_three(a, b, c):\n",
    "    return max(a, b, c)\n",
    "\n",
    "num1 = float(input(\"Enter the first number: \"))\n",
    "num2 = float(input(\"Enter the second number: \"))\n",
    "num3 = float(input(\"Enter the third number: \"))\n",
    "max_number = max_of_three(num1, num2, num3)\n",
    "print(max_number)\n",
    "\n",
    "\n",
    " \n"
   ]
  },
  {
   "cell_type": "code",
   "execution_count": null,
   "id": "0a7ce3d0-02ba-4d7b-b092-27c29987f237",
   "metadata": {},
   "outputs": [],
   "source": []
  }
 ],
 "metadata": {
  "kernelspec": {
   "display_name": "Python 3 (ipykernel)",
   "language": "python",
   "name": "python3"
  },
  "language_info": {
   "codemirror_mode": {
    "name": "ipython",
    "version": 3
   },
   "file_extension": ".py",
   "mimetype": "text/x-python",
   "name": "python",
   "nbconvert_exporter": "python",
   "pygments_lexer": "ipython3",
   "version": "3.13.0"
  }
 },
 "nbformat": 4,
 "nbformat_minor": 5
}
