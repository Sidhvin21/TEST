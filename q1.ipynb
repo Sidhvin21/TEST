{
 "cells": [
  {
   "cell_type": "code",
   "execution_count": 4,
   "id": "6f6a3e80-916a-48c7-be4e-cd76c65e5b85",
   "metadata": {},
   "outputs": [
    {
     "name": "stdin",
     "output_type": "stream",
     "text": [
      "Enter a number :  6\n"
     ]
    },
    {
     "name": "stdout",
     "output_type": "stream",
     "text": [
      "The square of 6.0 is 36.0.\n"
     ]
    }
   ],
   "source": [
    "#1\n",
    "sqr = lambda x: x ** 2\n",
    "\n",
    "square = float(input(\"Enter a number : \"))\n",
    "result = sqr(square)\n",
    "print(f\"The square of {square} is {result}.\")"
   ]
  },
  {
   "cell_type": "code",
   "execution_count": null,
   "id": "4cb0b816-d51e-4511-9552-e6c0168f3346",
   "metadata": {},
   "outputs": [],
   "source": []
  }
 ],
 "metadata": {
  "kernelspec": {
   "display_name": "Python 3 (ipykernel)",
   "language": "python",
   "name": "python3"
  },
  "language_info": {
   "codemirror_mode": {
    "name": "ipython",
    "version": 3
   },
   "file_extension": ".py",
   "mimetype": "text/x-python",
   "name": "python",
   "nbconvert_exporter": "python",
   "pygments_lexer": "ipython3",
   "version": "3.13.0"
  }
 },
 "nbformat": 4,
 "nbformat_minor": 5
}
